{
  "nbformat": 4,
  "nbformat_minor": 0,
  "metadata": {
    "colab": {
      "provenance": []
    },
    "kernelspec": {
      "name": "python3",
      "display_name": "Python 3"
    },
    "language_info": {
      "name": "python"
    }
  },
  "cells": [
    {
      "cell_type": "markdown",
      "source": [
        "#PYTHON BASICS(THEORETICAL)"
      ],
      "metadata": {
        "id": "ZJZnkw3lxMQg"
      }
    },
    {
      "cell_type": "markdown",
      "source": [
        "1. What is Python, and why is it popular ?\n",
        "  - Python is a high-level, interpreted programming language known for its simple and readable syntax. It is popular for easy to learn and use, versatile, work on multiple platform.\n",
        "\n",
        "2. What is an interpreter in Python ?\n",
        "  - An interpreter in python is a program that reads and executes Python code line by line, instead of compiling the whole code at once. i.e., Errors are caught quickly during execution. You can test and debug code interactively (e.g., using the Python shell or IDLE).\n",
        "\n",
        "3. What are pre-defined keywords in Python ?\n",
        "  - Pre-defined keywords in Python are special reserved words that have specific meanings in the language. They cannot be used as variable names or identifiers. For example if, else, for, while, class, return, import etc.\n",
        "\n",
        "4. Can keywords be used as variable names ?\n",
        "  - No, keywords cannot be used as variable names in Python. They are reserved by the language for specific purposes (like if, for, class, etc.). Using them as variable names will cause a syntax error.\n",
        "\n",
        "5. What is mutability in Python ?\n",
        "  - In python, objects can be modifiable i.e changeable, such objects can be modified after creation. List and dictionaries is mutability in python.\n",
        "\n",
        "6. Why are lists mutable, but tuples are immutable ?\n",
        "  - Lists are mutable because they are designed to hold and modify collections of items. You can change, add, or remove elements after the list is created. Tuples are immutable because they are meant to represent fixed, unchangeable data. Once created, you cannot modify the elements.Tuples are used where data integrity and fixed structure are important (e.g., as dictionary keys or in sets). Lists are flexible and meant for dynamic data.\n",
        "\n",
        "7. What is the difference between “==” and “is” operators in Python ?\n",
        " - == checks for value equality i.e., whether two variables have the same value. is checks for identity i.e., whether two variables point to the same object in memory.\n",
        "\n",
        "8. What are logical operators in Python ?\n",
        "  - Logical operators in Python are used to combine conditional statements. They return True or False based on the logic.\n",
        "  The three logical operators are:\n",
        "    a) and – True if both conditions are true\n",
        "    b) or – True if at least one condition is true\n",
        "    c) not – Reverses the result (True becomes False, and vice versa)\n",
        "\n",
        "9. What is type casting in Python ?\n",
        "  - Type casting in Python means converting one data type into another. It is used to change variables between types like int, float, str, etc.\n",
        "\n",
        "10. What is the difference between implicit and explicit type casting ?\n",
        "   - Implicit casting is done automatically by Python (e.g., int to float). Explicit casting is done manually by the programmer using functions like int(), float(), str().\n",
        "\n",
        "11. What is the purpose of conditional statements in Python ?\n",
        "   - Conditional statements are used to make decisions in a program. They allow the code to execute certain blocks only when specific conditions are true. Common conditional statements: if, else, elif.\n",
        "\n",
        "12. How does the elif statement work ?\n",
        "   - The elif (short for \"else if\") statement is used to check multiple conditions after an if statement. It runs only if the previous if or elif conditions are false. It allows you to test several conditions in sequence. Only the first true condition will be executed; the rest are skipped.\n",
        "\n",
        "13. What is the difference between for and while loops ?\n",
        "   - for loop is used when you know in advance how many times you want to repeat a block of code. It iterates over a sequence (like a list, string, or range). while loop is used when you want to repeat a block of code as long as a condition is true. You don't need to know in advance how many times it will run.\n",
        "\n",
        "14. Describe a scenario where a while loop is more suitable than a for loop.\n",
        "   - A while loop is better when you don't know in advance how many times the loop should run, and you want to keep running until a condition becomes false. Example scenario: You want to keep asking the user to enter a correct password until they get it right."
      ],
      "metadata": {
        "id": "J1x8Hs_qxVi_"
      }
    },
    {
      "cell_type": "markdown",
      "source": [
        "# PYTHON BASICS(PRACTICAL)"
      ],
      "metadata": {
        "id": "NxvIF8Ky9uuI"
      }
    },
    {
      "cell_type": "code",
      "source": [
        "#Write a Python program to print \"Hello, World!\"\n",
        "print(\"Hello, World!\")"
      ],
      "metadata": {
        "colab": {
          "base_uri": "https://localhost:8080/"
        },
        "id": "CYE5OEAz95or",
        "outputId": "5464d7b6-d7ae-4dc5-ad0c-c389d9e5cf50"
      },
      "execution_count": 2,
      "outputs": [
        {
          "output_type": "stream",
          "name": "stdout",
          "text": [
            "Hello, World!\n"
          ]
        }
      ]
    },
    {
      "cell_type": "code",
      "source": [
        "#Write a Python program that displays your name and age\n",
        "name = input(\"Enter Your Name: \")\n",
        "age = int(input(\"Enter Your Age: \"))\n",
        "print(\"Name\", name)\n",
        "print(\"Age\", age)"
      ],
      "metadata": {
        "colab": {
          "base_uri": "https://localhost:8080/"
        },
        "id": "OOSkJcDm-5Y3",
        "outputId": "75c0acc9-e2c5-49d2-b857-be1fc348e0ef"
      },
      "execution_count": 6,
      "outputs": [
        {
          "output_type": "stream",
          "name": "stdout",
          "text": [
            "Enter Your Name: Debasis Das\n",
            "Enter Your Age: 24\n",
            "Name Debasis Das\n",
            "Age 24\n"
          ]
        }
      ]
    },
    {
      "cell_type": "code",
      "source": [
        "#Write code to print all the pre-defined keywords in Python using the keyword library.\n",
        "import keyword\n",
        "print(keyword.kwlist)"
      ],
      "metadata": {
        "colab": {
          "base_uri": "https://localhost:8080/"
        },
        "id": "sWNVcnGP_vKt",
        "outputId": "3d8ce46d-d6d5-4d11-d5c2-a015d3c97afd"
      },
      "execution_count": 5,
      "outputs": [
        {
          "output_type": "stream",
          "name": "stdout",
          "text": [
            "['False', 'None', 'True', 'and', 'as', 'assert', 'async', 'await', 'break', 'class', 'continue', 'def', 'del', 'elif', 'else', 'except', 'finally', 'for', 'from', 'global', 'if', 'import', 'in', 'is', 'lambda', 'nonlocal', 'not', 'or', 'pass', 'raise', 'return', 'try', 'while', 'with', 'yield']\n"
          ]
        }
      ]
    },
    {
      "cell_type": "code",
      "source": [
        "#Write a program that checks if a given word is a Python keyword.\n",
        "import keyword\n",
        "word = input(\"Enter a word: \")\n",
        "if keyword.iskeyword(word):\n",
        "    print(f\" '{word}' is a python keyword\")\n",
        "else:\n",
        "    print(f\" '{word}' isn't a python keyword\")"
      ],
      "metadata": {
        "colab": {
          "base_uri": "https://localhost:8080/"
        },
        "id": "l4u4iFzQA2sS",
        "outputId": "80de8978-5e3f-4aa6-cdad-e0d6f33e10e2"
      },
      "execution_count": 8,
      "outputs": [
        {
          "output_type": "stream",
          "name": "stdout",
          "text": [
            "Enter a word: False\n",
            " 'False' is a python keyword\n"
          ]
        }
      ]
    },
    {
      "cell_type": "code",
      "source": [
        "# Create a list and tuple in Python, and demonstrate how attempting to change an element works differently for each.\n",
        "my_list = [1.1, 1.2, 1.3]\n",
        "print(\"Original list:\", my_list)\n",
        "my_list[1] = 1.4\n",
        "print(\"Modified list:\", my_list)\n",
        "my_tuple = (5, 10, 15)\n",
        "print(\"Original tuple:\", my_tuple)\n",
        "try:\n",
        "   my_tuple[1] = 20\n",
        "except TypeError as e:\n",
        "    print(\"Error:\", e)"
      ],
      "metadata": {
        "colab": {
          "base_uri": "https://localhost:8080/"
        },
        "id": "bVyRHEPgCIKJ",
        "outputId": "f7ce32dc-fdc9-4a56-cdf6-03b3512bbdf1"
      },
      "execution_count": 13,
      "outputs": [
        {
          "output_type": "stream",
          "name": "stdout",
          "text": [
            "Original list: [1.1, 1.2, 1.3]\n",
            "Modified list: [1.1, 1.4, 1.3]\n",
            "Original tuple: (5, 10, 15)\n",
            "Error: 'tuple' object does not support item assignment\n"
          ]
        }
      ]
    },
    {
      "cell_type": "code",
      "source": [
        "#Write a function to demonstrate the behavior of mutable and immutable arguments.\n",
        "def modify_arguments(num, num_list):\n",
        "    num += 10\n",
        "    num_list.append(100)\n",
        "    print(\"Inside function:\")\n",
        "    print(\"num =\", num)\n",
        "    print(\"num_list =\", num_list)\n",
        "x = 5\n",
        "y = [1, 2, 3]\n",
        "modify_arguments(x, y)\n",
        "print(\"\\nOutside function:\")\n",
        "print(\"x =\", x)\n",
        "print(\"y =\", y)"
      ],
      "metadata": {
        "colab": {
          "base_uri": "https://localhost:8080/"
        },
        "id": "XFKH6TmMDU6C",
        "outputId": "9478f9da-b3d3-408c-e814-0b81adf27893"
      },
      "execution_count": 14,
      "outputs": [
        {
          "output_type": "stream",
          "name": "stdout",
          "text": [
            "Inside function:\n",
            "num = 15\n",
            "num_list = [1, 2, 3, 100]\n",
            "\n",
            "Outside function:\n",
            "x = 5\n",
            "y = [1, 2, 3, 100]\n"
          ]
        }
      ]
    },
    {
      "cell_type": "code",
      "source": [
        "#Write a program that performs basic arithmetic operations on two user-input numbers.\n",
        "a = float(input(\"Enter a Number: \"))\n",
        "b = float(input(\"Enter second Number: \"))\n",
        "print(\"Addition: \", a+b)\n",
        "print(\"Subtraction: \", a-b)\n",
        "print(\"Multiplication: \", a*b)\n",
        "print(\"Division: \", a/b)"
      ],
      "metadata": {
        "colab": {
          "base_uri": "https://localhost:8080/"
        },
        "id": "K0QgoKXwD-ht",
        "outputId": "163ee33d-ae0e-427d-bb96-bd54f81a358f"
      },
      "execution_count": 15,
      "outputs": [
        {
          "output_type": "stream",
          "name": "stdout",
          "text": [
            "Enter a Number: 34\n",
            "Enter second Number: 45\n",
            "Addition:  79.0\n",
            "Subtraction:  -11.0\n",
            "Multiplication:  1530.0\n",
            "Division:  0.7555555555555555\n"
          ]
        }
      ]
    },
    {
      "cell_type": "code",
      "source": [
        "#Write a program to demonstrate the use of logical operators.\n",
        "a = float(input(\"Enter a Number: \"))\n",
        "b = float(input(\"Enter second Number: \"))\n",
        "c = float(input(\"Enter third Number: \"))\n",
        "print(\"a > b and b > c:\", a > b and b > c)\n",
        "print(\"a < b or c == 0:\", a < b or c == 0)\n",
        "print(\"not (a < b):\", not (a < b))"
      ],
      "metadata": {
        "colab": {
          "base_uri": "https://localhost:8080/"
        },
        "id": "4G6G-tpdK0v0",
        "outputId": "72a066c4-cd83-4724-f051-f3b4cf264b2b"
      },
      "execution_count": 16,
      "outputs": [
        {
          "output_type": "stream",
          "name": "stdout",
          "text": [
            "Enter a Number: 25\n",
            "Enter second Number: 20\n",
            "Enter third Number: 13\n",
            "a > b and b > c: True\n",
            "a < b or c == 0: False\n",
            "not (a < b): True\n"
          ]
        }
      ]
    },
    {
      "cell_type": "code",
      "source": [
        "# Write a Python program to convert user input from string to integer, float, and boolean types.\n",
        "a = input(\"Enter a Number: \")\n",
        "print(int(a))\n",
        "print(float(a))\n",
        "print(bool(a))"
      ],
      "metadata": {
        "colab": {
          "base_uri": "https://localhost:8080/"
        },
        "id": "22Sloq4mLgux",
        "outputId": "5cb84d71-ea55-4f36-b0b5-fcacaf0f5d0e"
      },
      "execution_count": 19,
      "outputs": [
        {
          "output_type": "stream",
          "name": "stdout",
          "text": [
            "Enter a Number: 25\n",
            "25\n",
            "25.0\n",
            "True\n"
          ]
        }
      ]
    },
    {
      "cell_type": "code",
      "source": [
        "# Write code to demonstrate type casting with list elements.\n",
        "a = [\"10\", \"20\", \"30\"]\n",
        "b = [int(x) for x in a]\n",
        "print(\"Original list (strings):\", a)\n",
        "print(\"Converted list (integers):\", b)"
      ],
      "metadata": {
        "colab": {
          "base_uri": "https://localhost:8080/"
        },
        "id": "QGlZjdjLMtca",
        "outputId": "172c9993-0f0b-4b59-eb64-06a38a3f92ed"
      },
      "execution_count": 23,
      "outputs": [
        {
          "output_type": "stream",
          "name": "stdout",
          "text": [
            "Original list (strings): ['10', '20', '30']\n",
            "Converted list (integers): [10, 20, 30]\n"
          ]
        }
      ]
    },
    {
      "cell_type": "code",
      "source": [
        "#Write a program that checks if a number is positive, negative, or zero.\n",
        "a = float(input(\"Enter a Number: \"))\n",
        "if a > 0:\n",
        "    print(\"a is a positive number\")\n",
        "elif a < 0:\n",
        "    print(\"a is a negative number\")\n",
        "else:\n",
        "    print(\"a is zero\")"
      ],
      "metadata": {
        "colab": {
          "base_uri": "https://localhost:8080/"
        },
        "id": "cdo7fgAUToXu",
        "outputId": "59755c07-fef4-4a3c-8d33-933363d9d07e"
      },
      "execution_count": 27,
      "outputs": [
        {
          "output_type": "stream",
          "name": "stdout",
          "text": [
            "Enter a Number: 25\n",
            "a is a positive number\n"
          ]
        }
      ]
    },
    {
      "cell_type": "code",
      "source": [
        "#Write a for loop to print numbers from 1 to 10\n",
        "a = range(1, 11)\n",
        "for i in a:\n",
        "  print(i)"
      ],
      "metadata": {
        "colab": {
          "base_uri": "https://localhost:8080/"
        },
        "id": "xccEr08nU7AW",
        "outputId": "c8cd29a1-0ca4-4393-cb18-ece77a7ab07d"
      },
      "execution_count": 28,
      "outputs": [
        {
          "output_type": "stream",
          "name": "stdout",
          "text": [
            "1\n",
            "2\n",
            "3\n",
            "4\n",
            "5\n",
            "6\n",
            "7\n",
            "8\n",
            "9\n",
            "10\n"
          ]
        }
      ]
    },
    {
      "cell_type": "code",
      "source": [
        "#Write a Python program to find the sum of all even numbers between 1 and 50.\n",
        "a = range(1,50)\n",
        "sum = 0\n",
        "for i in a:\n",
        "  if i % 2 == 0:\n",
        "    sum += i\n",
        "print(\"Sum of even numbers from 1 to 50 is: \", sum)"
      ],
      "metadata": {
        "colab": {
          "base_uri": "https://localhost:8080/"
        },
        "id": "Cr4ZXm3GVtqg",
        "outputId": "f1b40868-de50-4fac-ddf3-f4715de300b7"
      },
      "execution_count": 30,
      "outputs": [
        {
          "output_type": "stream",
          "name": "stdout",
          "text": [
            "Sum of even numbers from 1 to 50 is:  600\n"
          ]
        }
      ]
    },
    {
      "cell_type": "code",
      "source": [
        "#Write a program to reverse a string using a while loop\n",
        "a = input(\"Enter a string: \")\n",
        "rev_a = \"\"\n",
        "index = len(a) - 1\n",
        "while index >= 0:\n",
        "  rev_a += a[index]\n",
        "  index -= 1\n",
        "print(\"Reverse of the string: \",rev_a)"
      ],
      "metadata": {
        "colab": {
          "base_uri": "https://localhost:8080/"
        },
        "id": "6eEfhSMyXHGm",
        "outputId": "65e45cc5-9043-48fe-cdd2-86d83a87aaf3"
      },
      "execution_count": 31,
      "outputs": [
        {
          "output_type": "stream",
          "name": "stdout",
          "text": [
            "Enter a string: Ricky\n",
            "Reverse of the string:  ykciR\n"
          ]
        }
      ]
    },
    {
      "cell_type": "code",
      "source": [
        "#Write a Python program to calculate the factorial of a number provided by the user using a while loop.\n",
        "a = int(input(\"Enter a Number: \"))\n",
        "f = 1\n",
        "i = 1\n",
        "while i <= a:\n",
        "  f *= i\n",
        "  i += 1\n",
        "print(f\"Factorial of {a} is: {f}\")"
      ],
      "metadata": {
        "colab": {
          "base_uri": "https://localhost:8080/"
        },
        "id": "8QqDsSEiYXkK",
        "outputId": "e35330ad-75b0-4c30-ca58-b94aba9d6acb"
      },
      "execution_count": 33,
      "outputs": [
        {
          "output_type": "stream",
          "name": "stdout",
          "text": [
            "Enter a Number: 45\n",
            "Factorial of 45 is: 119622220865480194561963161495657715064383733760000000000\n"
          ]
        }
      ]
    }
  ]
}